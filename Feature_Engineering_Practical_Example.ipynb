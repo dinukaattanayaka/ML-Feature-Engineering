{
  "cells": [
    {
      "cell_type": "markdown",
      "metadata": {
        "id": "view-in-github",
        "colab_type": "text"
      },
      "source": [
        "<a href=\"https://colab.research.google.com/github/dinukaattanayaka/ML-Feature-Engineering/blob/main/Feature_Engineering_Practical_Example.ipynb\" target=\"_parent\"><img src=\"https://colab.research.google.com/assets/colab-badge.svg\" alt=\"Open In Colab\"/></a>"
      ]
    },
    {
      "cell_type": "code",
      "source": [
        "from google.colab import drive\n",
        "drive.mount('/content/drive')"
      ],
      "metadata": {
        "colab": {
          "base_uri": "https://localhost:8080/"
        },
        "id": "3JrITpLoIvfN",
        "outputId": "dbf5cedb-d5d4-425a-d6c6-4db23c3d0362"
      },
      "execution_count": 1,
      "outputs": [
        {
          "output_type": "stream",
          "name": "stdout",
          "text": [
            "Mounted at /content/drive\n"
          ]
        }
      ]
    },
    {
      "cell_type": "code",
      "execution_count": 2,
      "metadata": {
        "id": "ltY-vYFKIjWB"
      },
      "outputs": [],
      "source": [
        "import pandas as pd\n",
        "\n",
        "data = pd.read_csv('/content/drive/MyDrive/machine learning/DAY10 (Principal Component Analysis & Feature Engineering)/cardio_dataset-original.csv')"
      ]
    },
    {
      "cell_type": "markdown",
      "metadata": {
        "id": "7gmxEc0hIjWI"
      },
      "source": [
        "# Step 1 - Handling Outliers"
      ]
    },
    {
      "cell_type": "code",
      "execution_count": 3,
      "metadata": {
        "id": "IhTPY82aIjWL"
      },
      "outputs": [],
      "source": [
        "factor = 4\n",
        "\n",
        "upper_lim = data['AGEIR'].mean () + data['AGEIR'].std () * factor\n",
        "lower_lim = data['AGEIR'].mean () - data['AGEIR'].std () * factor\n",
        "\n",
        "data_new = data[(data['AGEIR'] < upper_lim) & (data['AGEIR'] > lower_lim)]"
      ]
    },
    {
      "cell_type": "code",
      "execution_count": 4,
      "metadata": {
        "id": "EpBskzX3IjWM"
      },
      "outputs": [],
      "source": [
        "upper_lim = data_new['TC'].mean () + data_new['TC'].std () * factor\n",
        "lower_lim = data_new['TC'].mean () - data_new['TC'].std () * factor\n",
        "\n",
        "data_new = data_new[(data_new['TC'] < upper_lim) & (data_new['TC'] > lower_lim)]"
      ]
    },
    {
      "cell_type": "code",
      "execution_count": 5,
      "metadata": {
        "id": "6j-mraxoIjWN"
      },
      "outputs": [],
      "source": [
        "upper_lim = data_new['HDL'].mean () + data_new['HDL'].std () * factor\n",
        "lower_lim = data_new['HDL'].mean () - data_new['HDL'].std () * factor\n",
        "\n",
        "data_new = data_new[(data_new['HDL'] < upper_lim) & (data_new['HDL'] > lower_lim)]"
      ]
    },
    {
      "cell_type": "code",
      "execution_count": 6,
      "metadata": {
        "id": "qY1z6RRQIjWO"
      },
      "outputs": [],
      "source": [
        "upper_lim = data_new['RISK'].mean () + data_new['RISK'].std () * factor\n",
        "lower_lim = data_new['RISK'].mean () - data_new['RISK'].std () * factor\n",
        "\n",
        "data_new = data_new[(data_new['RISK'] < upper_lim) & (data_new['RISK'] > lower_lim)]"
      ]
    },
    {
      "cell_type": "markdown",
      "metadata": {
        "id": "DaVnOy2hIjWP"
      },
      "source": [
        "# Step 2 - Categorical Encoding"
      ]
    },
    {
      "cell_type": "code",
      "execution_count": 7,
      "metadata": {
        "colab": {
          "base_uri": "https://localhost:8080/"
        },
        "id": "barWmUYiIjWQ",
        "outputId": "672562c8-be0c-4488-9713-ee32e3eb2d4f"
      },
      "outputs": [
        {
          "output_type": "stream",
          "name": "stdout",
          "text": [
            "SEX           category\n",
            "AGEIR            int64\n",
            "TC               int64\n",
            "HDL              int64\n",
            "SMOKE_        category\n",
            "BPMED         category\n",
            "DIAB_noyes    category\n",
            "RISK           float64\n",
            "dtype: object\n"
          ]
        }
      ],
      "source": [
        "data_new[\"SEX\"] = data_new[\"SEX\"].astype('category')\n",
        "data_new[\"SMOKE_\"] = data_new[\"SMOKE_\"].astype('category')\n",
        "data_new[\"BPMED\"] = data_new[\"BPMED\"].astype('category')\n",
        "data_new[\"DIAB_noyes\"] = data_new[\"DIAB_noyes\"].astype('category')\n",
        "print(data_new.dtypes)"
      ]
    },
    {
      "cell_type": "code",
      "execution_count": 8,
      "metadata": {
        "colab": {
          "base_uri": "https://localhost:8080/",
          "height": 206
        },
        "id": "EqLgSyu-IjWS",
        "outputId": "68de95f7-ef74-4c3b-d511-59b144e52209"
      },
      "outputs": [
        {
          "output_type": "execute_result",
          "data": {
            "text/plain": [
              "   SEX  AGEIR   TC  HDL  SMOKE_  BPMED  DIAB_noyes  RISK\n",
              "0    0     48  236   66       0      1           0   1.1\n",
              "1    1     48  260   51       0      1           1   7.0\n",
              "2    1     44  187   49       1      1           0   7.0\n",
              "3    0     42  216   57       1      1           0   0.4\n",
              "4    0     56  156   42       0      1           0   2.2"
            ],
            "text/html": [
              "\n",
              "  <div id=\"df-c7df33e9-ef7c-4270-90a0-ba4ddf0ac3c6\" class=\"colab-df-container\">\n",
              "    <div>\n",
              "<style scoped>\n",
              "    .dataframe tbody tr th:only-of-type {\n",
              "        vertical-align: middle;\n",
              "    }\n",
              "\n",
              "    .dataframe tbody tr th {\n",
              "        vertical-align: top;\n",
              "    }\n",
              "\n",
              "    .dataframe thead th {\n",
              "        text-align: right;\n",
              "    }\n",
              "</style>\n",
              "<table border=\"1\" class=\"dataframe\">\n",
              "  <thead>\n",
              "    <tr style=\"text-align: right;\">\n",
              "      <th></th>\n",
              "      <th>SEX</th>\n",
              "      <th>AGEIR</th>\n",
              "      <th>TC</th>\n",
              "      <th>HDL</th>\n",
              "      <th>SMOKE_</th>\n",
              "      <th>BPMED</th>\n",
              "      <th>DIAB_noyes</th>\n",
              "      <th>RISK</th>\n",
              "    </tr>\n",
              "  </thead>\n",
              "  <tbody>\n",
              "    <tr>\n",
              "      <th>0</th>\n",
              "      <td>0</td>\n",
              "      <td>48</td>\n",
              "      <td>236</td>\n",
              "      <td>66</td>\n",
              "      <td>0</td>\n",
              "      <td>1</td>\n",
              "      <td>0</td>\n",
              "      <td>1.1</td>\n",
              "    </tr>\n",
              "    <tr>\n",
              "      <th>1</th>\n",
              "      <td>1</td>\n",
              "      <td>48</td>\n",
              "      <td>260</td>\n",
              "      <td>51</td>\n",
              "      <td>0</td>\n",
              "      <td>1</td>\n",
              "      <td>1</td>\n",
              "      <td>7.0</td>\n",
              "    </tr>\n",
              "    <tr>\n",
              "      <th>2</th>\n",
              "      <td>1</td>\n",
              "      <td>44</td>\n",
              "      <td>187</td>\n",
              "      <td>49</td>\n",
              "      <td>1</td>\n",
              "      <td>1</td>\n",
              "      <td>0</td>\n",
              "      <td>7.0</td>\n",
              "    </tr>\n",
              "    <tr>\n",
              "      <th>3</th>\n",
              "      <td>0</td>\n",
              "      <td>42</td>\n",
              "      <td>216</td>\n",
              "      <td>57</td>\n",
              "      <td>1</td>\n",
              "      <td>1</td>\n",
              "      <td>0</td>\n",
              "      <td>0.4</td>\n",
              "    </tr>\n",
              "    <tr>\n",
              "      <th>4</th>\n",
              "      <td>0</td>\n",
              "      <td>56</td>\n",
              "      <td>156</td>\n",
              "      <td>42</td>\n",
              "      <td>0</td>\n",
              "      <td>1</td>\n",
              "      <td>0</td>\n",
              "      <td>2.2</td>\n",
              "    </tr>\n",
              "  </tbody>\n",
              "</table>\n",
              "</div>\n",
              "    <div class=\"colab-df-buttons\">\n",
              "\n",
              "  <div class=\"colab-df-container\">\n",
              "    <button class=\"colab-df-convert\" onclick=\"convertToInteractive('df-c7df33e9-ef7c-4270-90a0-ba4ddf0ac3c6')\"\n",
              "            title=\"Convert this dataframe to an interactive table.\"\n",
              "            style=\"display:none;\">\n",
              "\n",
              "  <svg xmlns=\"http://www.w3.org/2000/svg\" height=\"24px\" viewBox=\"0 -960 960 960\">\n",
              "    <path d=\"M120-120v-720h720v720H120Zm60-500h600v-160H180v160Zm220 220h160v-160H400v160Zm0 220h160v-160H400v160ZM180-400h160v-160H180v160Zm440 0h160v-160H620v160ZM180-180h160v-160H180v160Zm440 0h160v-160H620v160Z\"/>\n",
              "  </svg>\n",
              "    </button>\n",
              "\n",
              "  <style>\n",
              "    .colab-df-container {\n",
              "      display:flex;\n",
              "      gap: 12px;\n",
              "    }\n",
              "\n",
              "    .colab-df-convert {\n",
              "      background-color: #E8F0FE;\n",
              "      border: none;\n",
              "      border-radius: 50%;\n",
              "      cursor: pointer;\n",
              "      display: none;\n",
              "      fill: #1967D2;\n",
              "      height: 32px;\n",
              "      padding: 0 0 0 0;\n",
              "      width: 32px;\n",
              "    }\n",
              "\n",
              "    .colab-df-convert:hover {\n",
              "      background-color: #E2EBFA;\n",
              "      box-shadow: 0px 1px 2px rgba(60, 64, 67, 0.3), 0px 1px 3px 1px rgba(60, 64, 67, 0.15);\n",
              "      fill: #174EA6;\n",
              "    }\n",
              "\n",
              "    .colab-df-buttons div {\n",
              "      margin-bottom: 4px;\n",
              "    }\n",
              "\n",
              "    [theme=dark] .colab-df-convert {\n",
              "      background-color: #3B4455;\n",
              "      fill: #D2E3FC;\n",
              "    }\n",
              "\n",
              "    [theme=dark] .colab-df-convert:hover {\n",
              "      background-color: #434B5C;\n",
              "      box-shadow: 0px 1px 3px 1px rgba(0, 0, 0, 0.15);\n",
              "      filter: drop-shadow(0px 1px 2px rgba(0, 0, 0, 0.3));\n",
              "      fill: #FFFFFF;\n",
              "    }\n",
              "  </style>\n",
              "\n",
              "    <script>\n",
              "      const buttonEl =\n",
              "        document.querySelector('#df-c7df33e9-ef7c-4270-90a0-ba4ddf0ac3c6 button.colab-df-convert');\n",
              "      buttonEl.style.display =\n",
              "        google.colab.kernel.accessAllowed ? 'block' : 'none';\n",
              "\n",
              "      async function convertToInteractive(key) {\n",
              "        const element = document.querySelector('#df-c7df33e9-ef7c-4270-90a0-ba4ddf0ac3c6');\n",
              "        const dataTable =\n",
              "          await google.colab.kernel.invokeFunction('convertToInteractive',\n",
              "                                                    [key], {});\n",
              "        if (!dataTable) return;\n",
              "\n",
              "        const docLinkHtml = 'Like what you see? Visit the ' +\n",
              "          '<a target=\"_blank\" href=https://colab.research.google.com/notebooks/data_table.ipynb>data table notebook</a>'\n",
              "          + ' to learn more about interactive tables.';\n",
              "        element.innerHTML = '';\n",
              "        dataTable['output_type'] = 'display_data';\n",
              "        await google.colab.output.renderOutput(dataTable, element);\n",
              "        const docLink = document.createElement('div');\n",
              "        docLink.innerHTML = docLinkHtml;\n",
              "        element.appendChild(docLink);\n",
              "      }\n",
              "    </script>\n",
              "  </div>\n",
              "\n",
              "\n",
              "<div id=\"df-7dfcd1cb-ed26-49e3-b127-afcf0a5603ad\">\n",
              "  <button class=\"colab-df-quickchart\" onclick=\"quickchart('df-7dfcd1cb-ed26-49e3-b127-afcf0a5603ad')\"\n",
              "            title=\"Suggest charts\"\n",
              "            style=\"display:none;\">\n",
              "\n",
              "<svg xmlns=\"http://www.w3.org/2000/svg\" height=\"24px\"viewBox=\"0 0 24 24\"\n",
              "     width=\"24px\">\n",
              "    <g>\n",
              "        <path d=\"M19 3H5c-1.1 0-2 .9-2 2v14c0 1.1.9 2 2 2h14c1.1 0 2-.9 2-2V5c0-1.1-.9-2-2-2zM9 17H7v-7h2v7zm4 0h-2V7h2v10zm4 0h-2v-4h2v4z\"/>\n",
              "    </g>\n",
              "</svg>\n",
              "  </button>\n",
              "\n",
              "<style>\n",
              "  .colab-df-quickchart {\n",
              "      --bg-color: #E8F0FE;\n",
              "      --fill-color: #1967D2;\n",
              "      --hover-bg-color: #E2EBFA;\n",
              "      --hover-fill-color: #174EA6;\n",
              "      --disabled-fill-color: #AAA;\n",
              "      --disabled-bg-color: #DDD;\n",
              "  }\n",
              "\n",
              "  [theme=dark] .colab-df-quickchart {\n",
              "      --bg-color: #3B4455;\n",
              "      --fill-color: #D2E3FC;\n",
              "      --hover-bg-color: #434B5C;\n",
              "      --hover-fill-color: #FFFFFF;\n",
              "      --disabled-bg-color: #3B4455;\n",
              "      --disabled-fill-color: #666;\n",
              "  }\n",
              "\n",
              "  .colab-df-quickchart {\n",
              "    background-color: var(--bg-color);\n",
              "    border: none;\n",
              "    border-radius: 50%;\n",
              "    cursor: pointer;\n",
              "    display: none;\n",
              "    fill: var(--fill-color);\n",
              "    height: 32px;\n",
              "    padding: 0;\n",
              "    width: 32px;\n",
              "  }\n",
              "\n",
              "  .colab-df-quickchart:hover {\n",
              "    background-color: var(--hover-bg-color);\n",
              "    box-shadow: 0 1px 2px rgba(60, 64, 67, 0.3), 0 1px 3px 1px rgba(60, 64, 67, 0.15);\n",
              "    fill: var(--button-hover-fill-color);\n",
              "  }\n",
              "\n",
              "  .colab-df-quickchart-complete:disabled,\n",
              "  .colab-df-quickchart-complete:disabled:hover {\n",
              "    background-color: var(--disabled-bg-color);\n",
              "    fill: var(--disabled-fill-color);\n",
              "    box-shadow: none;\n",
              "  }\n",
              "\n",
              "  .colab-df-spinner {\n",
              "    border: 2px solid var(--fill-color);\n",
              "    border-color: transparent;\n",
              "    border-bottom-color: var(--fill-color);\n",
              "    animation:\n",
              "      spin 1s steps(1) infinite;\n",
              "  }\n",
              "\n",
              "  @keyframes spin {\n",
              "    0% {\n",
              "      border-color: transparent;\n",
              "      border-bottom-color: var(--fill-color);\n",
              "      border-left-color: var(--fill-color);\n",
              "    }\n",
              "    20% {\n",
              "      border-color: transparent;\n",
              "      border-left-color: var(--fill-color);\n",
              "      border-top-color: var(--fill-color);\n",
              "    }\n",
              "    30% {\n",
              "      border-color: transparent;\n",
              "      border-left-color: var(--fill-color);\n",
              "      border-top-color: var(--fill-color);\n",
              "      border-right-color: var(--fill-color);\n",
              "    }\n",
              "    40% {\n",
              "      border-color: transparent;\n",
              "      border-right-color: var(--fill-color);\n",
              "      border-top-color: var(--fill-color);\n",
              "    }\n",
              "    60% {\n",
              "      border-color: transparent;\n",
              "      border-right-color: var(--fill-color);\n",
              "    }\n",
              "    80% {\n",
              "      border-color: transparent;\n",
              "      border-right-color: var(--fill-color);\n",
              "      border-bottom-color: var(--fill-color);\n",
              "    }\n",
              "    90% {\n",
              "      border-color: transparent;\n",
              "      border-bottom-color: var(--fill-color);\n",
              "    }\n",
              "  }\n",
              "</style>\n",
              "\n",
              "  <script>\n",
              "    async function quickchart(key) {\n",
              "      const quickchartButtonEl =\n",
              "        document.querySelector('#' + key + ' button');\n",
              "      quickchartButtonEl.disabled = true;  // To prevent multiple clicks.\n",
              "      quickchartButtonEl.classList.add('colab-df-spinner');\n",
              "      try {\n",
              "        const charts = await google.colab.kernel.invokeFunction(\n",
              "            'suggestCharts', [key], {});\n",
              "      } catch (error) {\n",
              "        console.error('Error during call to suggestCharts:', error);\n",
              "      }\n",
              "      quickchartButtonEl.classList.remove('colab-df-spinner');\n",
              "      quickchartButtonEl.classList.add('colab-df-quickchart-complete');\n",
              "    }\n",
              "    (() => {\n",
              "      let quickchartButtonEl =\n",
              "        document.querySelector('#df-7dfcd1cb-ed26-49e3-b127-afcf0a5603ad button');\n",
              "      quickchartButtonEl.style.display =\n",
              "        google.colab.kernel.accessAllowed ? 'block' : 'none';\n",
              "    })();\n",
              "  </script>\n",
              "</div>\n",
              "\n",
              "    </div>\n",
              "  </div>\n"
            ],
            "application/vnd.google.colaboratory.intrinsic+json": {
              "type": "dataframe",
              "variable_name": "data_new",
              "summary": "{\n  \"name\": \"data_new\",\n  \"rows\": 6565,\n  \"fields\": [\n    {\n      \"column\": \"SEX\",\n      \"properties\": {\n        \"dtype\": \"int8\",\n        \"num_unique_values\": 2,\n        \"samples\": [\n          1,\n          0\n        ],\n        \"semantic_type\": \"\",\n        \"description\": \"\"\n      }\n    },\n    {\n      \"column\": \"AGEIR\",\n      \"properties\": {\n        \"dtype\": \"number\",\n        \"std\": 11,\n        \"min\": 40,\n        \"max\": 79,\n        \"num_unique_values\": 40,\n        \"samples\": [\n          62,\n          43\n        ],\n        \"semantic_type\": \"\",\n        \"description\": \"\"\n      }\n    },\n    {\n      \"column\": \"TC\",\n      \"properties\": {\n        \"dtype\": \"number\",\n        \"std\": 42,\n        \"min\": 59,\n        \"max\": 392,\n        \"num_unique_values\": 271,\n        \"samples\": [\n          237,\n          293\n        ],\n        \"semantic_type\": \"\",\n        \"description\": \"\"\n      }\n    },\n    {\n      \"column\": \"HDL\",\n      \"properties\": {\n        \"dtype\": \"number\",\n        \"std\": 15,\n        \"min\": 12,\n        \"max\": 116,\n        \"num_unique_values\": 103,\n        \"samples\": [\n          75,\n          18\n        ],\n        \"semantic_type\": \"\",\n        \"description\": \"\"\n      }\n    },\n    {\n      \"column\": \"SMOKE_\",\n      \"properties\": {\n        \"dtype\": \"int8\",\n        \"num_unique_values\": 2,\n        \"samples\": [\n          1,\n          0\n        ],\n        \"semantic_type\": \"\",\n        \"description\": \"\"\n      }\n    },\n    {\n      \"column\": \"BPMED\",\n      \"properties\": {\n        \"dtype\": \"int8\",\n        \"num_unique_values\": 2,\n        \"samples\": [\n          0,\n          1\n        ],\n        \"semantic_type\": \"\",\n        \"description\": \"\"\n      }\n    },\n    {\n      \"column\": \"DIAB_noyes\",\n      \"properties\": {\n        \"dtype\": \"int8\",\n        \"num_unique_values\": 2,\n        \"samples\": [\n          1,\n          0\n        ],\n        \"semantic_type\": \"\",\n        \"description\": \"\"\n      }\n    },\n    {\n      \"column\": \"RISK\",\n      \"properties\": {\n        \"dtype\": \"number\",\n        \"std\": 12.17312030120771,\n        \"min\": 0.1,\n        \"max\": 64.0,\n        \"num_unique_values\": 548,\n        \"samples\": [\n          14.6,\n          10.9\n        ],\n        \"semantic_type\": \"\",\n        \"description\": \"\"\n      }\n    }\n  ]\n}"
            }
          },
          "metadata": {},
          "execution_count": 8
        }
      ],
      "source": [
        "data_new[\"SEX\"] = data_new[\"SEX\"].cat.codes\n",
        "data_new[\"SMOKE_\"] = data_new[\"SMOKE_\"].cat.codes\n",
        "data_new[\"BPMED\"] = data_new[\"BPMED\"].cat.codes\n",
        "data_new[\"DIAB_noyes\"] = data_new[\"DIAB_noyes\"].cat.codes\n",
        "data_new.head()"
      ]
    },
    {
      "cell_type": "markdown",
      "metadata": {
        "id": "QrtI_LBQIjWX"
      },
      "source": [
        "# Step 3 - Scaling"
      ]
    },
    {
      "cell_type": "code",
      "execution_count": 11,
      "metadata": {
        "colab": {
          "base_uri": "https://localhost:8080/"
        },
        "id": "lX5TisjaIjWX",
        "outputId": "cb089f9b-92ba-4623-edd3-f20ae05c5965"
      },
      "outputs": [
        {
          "output_type": "stream",
          "name": "stdout",
          "text": [
            "[[  0.  48. 236. ...   0.   1.   0.]\n",
            " [  1.  48. 260. ...   0.   1.   1.]\n",
            " [  1.  44. 187. ...   1.   1.   0.]\n",
            " ...\n",
            " [  1.  65. 212. ...   1.   0.   0.]\n",
            " [  1.  66. 184. ...   0.   0.   0.]\n",
            " [  0.  45. 203. ...   0.   1.   0.]]\n"
          ]
        }
      ],
      "source": [
        "dataset=data_new.values #numpy\n",
        "\n",
        "data=dataset[:,:7]\n",
        "target=dataset[:,7]\n",
        "\n",
        "print(data)"
      ]
    },
    {
      "cell_type": "code",
      "execution_count": 15,
      "metadata": {
        "id": "zJvtjX7oIjWY"
      },
      "outputs": [],
      "source": [
        "from sklearn.preprocessing import QuantileTransformer\n",
        "\n",
        "model_qntl_data = QuantileTransformer(output_distribution='normal', random_state=0)\n",
        "data_scaled = model_qntl_data.fit_transform(data)"
      ]
    },
    {
      "cell_type": "code",
      "execution_count": 14,
      "metadata": {
        "colab": {
          "base_uri": "https://localhost:8080/"
        },
        "id": "KZACFCQNIjWa",
        "outputId": "7affbd95-0107-440c-e19e-1f16e670ddd6"
      },
      "outputs": [
        {
          "output_type": "stream",
          "name": "stdout",
          "text": [
            "5.19933758270342 -5.199337582605575\n"
          ]
        }
      ],
      "source": [
        "import numpy as np\n",
        "model_qntl_target = QuantileTransformer(output_distribution='normal', random_state=0)\n",
        "target_scaled = model_qntl_target.fit_transform(target.reshape(-1,1))\n",
        "print(np.max(target_scaled),np.min(target_scaled)) # regression problem ekakdi data wgema target nuth scaled krgnna ona"
      ]
    },
    {
      "cell_type": "markdown",
      "metadata": {
        "id": "BmDcJbf4IjWb"
      },
      "source": [
        "# Step 4 - Polynomial Features"
      ]
    },
    {
      "cell_type": "code",
      "execution_count": 16,
      "metadata": {
        "id": "wollOVvMIjWc"
      },
      "outputs": [],
      "source": [
        "from sklearn.preprocessing import PolynomialFeatures\n",
        "\n",
        "model_poly=PolynomialFeatures(degree=3,include_bias=False)\n",
        "data_high=model_poly.fit_transform(data_scaled)"
      ]
    },
    {
      "cell_type": "markdown",
      "metadata": {
        "id": "tPsVifmJIjWd"
      },
      "source": [
        "# Step 5 - Training"
      ]
    },
    {
      "cell_type": "code",
      "execution_count": 17,
      "metadata": {
        "id": "5c0DEQ8wIjWd"
      },
      "outputs": [],
      "source": [
        "from sklearn.model_selection import train_test_split\n",
        "\n",
        "train_data,test_data,train_target,test_target=train_test_split(data_high,target_scaled,test_size=0.1)"
      ]
    },
    {
      "cell_type": "code",
      "execution_count": 18,
      "metadata": {
        "id": "b4NYDWe5IjWe"
      },
      "outputs": [],
      "source": [
        "from sklearn.linear_model import LinearRegression\n",
        "\n",
        "model=LinearRegression()\n",
        "\n",
        "model.fit(train_data,train_target)\n",
        "predicted_target=model.predict(test_data)"
      ]
    },
    {
      "cell_type": "code",
      "execution_count": 19,
      "metadata": {
        "colab": {
          "base_uri": "https://localhost:8080/"
        },
        "id": "is9azAtiIjWe",
        "outputId": "6ec2ab03-8312-4624-f83c-cc21d17e96ce"
      },
      "outputs": [
        {
          "output_type": "stream",
          "name": "stdout",
          "text": [
            "r2 score: 0.8847592344565527\n"
          ]
        }
      ],
      "source": [
        "from sklearn.metrics import r2_score\n",
        "\n",
        "r2=r2_score(test_target,predicted_target)\n",
        "print(\"r2 score:\",r2)"
      ]
    },
    {
      "cell_type": "markdown",
      "metadata": {
        "id": "C7F-_aueIjWf"
      },
      "source": [
        "# Step 6 - Save all the model files"
      ]
    },
    {
      "cell_type": "code",
      "execution_count": 20,
      "metadata": {
        "colab": {
          "base_uri": "https://localhost:8080/"
        },
        "id": "HCRN_FURIjWh",
        "outputId": "994e91fe-776d-4c65-f5f6-d161413f45af"
      },
      "outputs": [
        {
          "output_type": "execute_result",
          "data": {
            "text/plain": [
              "['/content/drive/MyDrive/machine learning/DAY10 (Principal Component Analysis & Feature Engineering)/model_qntl_target.sav']"
            ]
          },
          "metadata": {},
          "execution_count": 20
        }
      ],
      "source": [
        "import joblib\n",
        "\n",
        "joblib.dump(model,'/content/drive/MyDrive/machine learning/DAY10 (Principal Component Analysis & Feature Engineering)/heart_risk_regression.sav')\n",
        "joblib.dump(model_poly,'/content/drive/MyDrive/machine learning/DAY10 (Principal Component Analysis & Feature Engineering)/model_poly.sav')\n",
        "joblib.dump(model_qntl_data,'/content/drive/MyDrive/machine learning/DAY10 (Principal Component Analysis & Feature Engineering)/model_qntl_data.sav')\n",
        "joblib.dump(model_qntl_target,'/content/drive/MyDrive/machine learning/DAY10 (Principal Component Analysis & Feature Engineering)/model_qntl_target.sav')"
      ]
    },
    {
      "cell_type": "code",
      "execution_count": null,
      "metadata": {
        "id": "yMzgy_FxIjWh"
      },
      "outputs": [],
      "source": []
    }
  ],
  "metadata": {
    "kernelspec": {
      "display_name": "Python 3",
      "language": "python",
      "name": "python3"
    },
    "language_info": {
      "codemirror_mode": {
        "name": "ipython",
        "version": 3
      },
      "file_extension": ".py",
      "mimetype": "text/x-python",
      "name": "python",
      "nbconvert_exporter": "python",
      "pygments_lexer": "ipython3",
      "version": "3.6.8"
    },
    "colab": {
      "provenance": [],
      "include_colab_link": true
    }
  },
  "nbformat": 4,
  "nbformat_minor": 0
}